{
 "cells": [
  {
   "cell_type": "code",
   "execution_count": 2,
   "id": "eb3914ad",
   "metadata": {},
   "outputs": [],
   "source": [
    "import pandas as pd\n",
    "df = pd.read_csv(\"../data/DBS_SingDollar.csv\")"
   ]
  },
  {
   "cell_type": "code",
   "execution_count": 15,
   "id": "56d15e14",
   "metadata": {},
   "outputs": [
    {
     "name": "stdout",
     "output_type": "stream",
     "text": [
      "         SGD\n",
      "0    1.38925\n",
      "1    1.38707\n",
      "2    1.38324\n",
      "3    1.38378\n",
      "4    1.37595\n",
      "..       ...\n",
      "117  1.44655\n",
      "118  1.44814\n",
      "119  1.45018\n",
      "120  1.44954\n",
      "121  1.44766\n",
      "\n",
      "[122 rows x 1 columns]\n",
      "RMSE:  0.6283698867042165\n"
     ]
    }
   ],
   "source": [
    "X = df.loc[:,[\"SGD\"]]\n",
    "Y = df.loc[:,['DBS']]\n",
    "print(X)\n",
    "\n",
    "from sklearn import linear_model\n",
    "model = linear_model.LinearRegression()\n",
    "model.fit(X,Y)\n",
    "pred = model.predict(X)\n",
    "\n",
    "from sklearn.metrics import mean_squared_error\n",
    "rmse = mean_squared_error(Y,pred)**0.5\n",
    "print(\"RMSE: \",rmse)\n",
    "#print(rmse/Y.mean(axis=0)*100)"
   ]
  },
  {
   "cell_type": "code",
   "execution_count": 16,
   "id": "09686103",
   "metadata": {},
   "outputs": [],
   "source": [
    "#save model\n",
    "import joblib\n",
    "joblib.dump(model,\"../dbs.jl\")\n",
    "\n",
    "#load model\n",
    "model = joblib.load(\"../dbs.jl\")"
   ]
  },
  {
   "cell_type": "code",
   "execution_count": 17,
   "id": "d5eaaeba",
   "metadata": {},
   "outputs": [
    {
     "data": {
      "text/plain": [
       "array([[-50.60094302]])"
      ]
     },
     "execution_count": 17,
     "metadata": {},
     "output_type": "execute_result"
    }
   ],
   "source": [
    "model.coef_"
   ]
  },
  {
   "cell_type": "code",
   "execution_count": 18,
   "id": "9620cda9",
   "metadata": {},
   "outputs": [
    {
     "data": {
      "text/plain": [
       "array([90.22858515])"
      ]
     },
     "execution_count": 18,
     "metadata": {},
     "output_type": "execute_result"
    }
   ],
   "source": [
    "model.intercept_"
   ]
  },
  {
   "cell_type": "code",
   "execution_count": 19,
   "id": "f2f8b0eb",
   "metadata": {},
   "outputs": [
    {
     "name": "stdout",
     "output_type": "stream",
     "text": [
      "[[21.91731207]]\n"
     ]
    }
   ],
   "source": [
    "# p = model.predict([[1.35]])\n",
    "\n",
    "# Szevy added - To make a prediction for 1.35, provide it as a DataFrame with the same column name:\n",
    "new_data_for_prediction = pd.DataFrame([[1.35]], columns=[\"SGD\"])\n",
    "p = model.predict(new_data_for_prediction)\n",
    "print(p)"
   ]
  },
  {
   "cell_type": "code",
   "execution_count": 20,
   "id": "69f4221c",
   "metadata": {},
   "outputs": [],
   "source": [
    "#to add polynomial\n",
    "df[\"SGD2\"] = df[\"SGD\"] ** 2"
   ]
  },
  {
   "cell_type": "code",
   "execution_count": 21,
   "id": "ccf3fa78",
   "metadata": {},
   "outputs": [
    {
     "name": "stdout",
     "output_type": "stream",
     "text": [
      "RMSE with polynomial feature: 0.6107191638180894\n",
      "Prediction with polynomial feature for SGD=1.35: [[23.29291475]]\n",
      "Polynomial Model Coefficients: [[-1168.54138755   395.95055521]]\n",
      "Polynomial Model Intercept: [879.20390108]\n"
     ]
    }
   ],
   "source": [
    "# 1. Redefine X to include the new polynomial feature\n",
    "X_poly = df.loc[:, [\"SGD\", \"SGD2\"]] # Now X_poly has two features: SGD and SGD2\n",
    "# Or: X_poly = df[[\"SGD\", \"SGD2\"]] # This is also a common way to select multiple columns\n",
    "\n",
    "# 2. Re-instantiate and retrain a NEW linear regression model\n",
    "# It's good practice to create a new model instance for a new training process\n",
    "model_poly = linear_model.LinearRegression()\n",
    "model_poly.fit(X_poly, Y) # Train with both SGD and SGD2 features\n",
    "\n",
    "# 3. Re-evaluate the new model\n",
    "pred_poly = model_poly.predict(X_poly)\n",
    "rmse_poly = mean_squared_error(Y, pred_poly)**0.5\n",
    "print(f\"RMSE with polynomial feature: {rmse_poly}\")\n",
    "\n",
    "# (Optional) Compare the RMSE of the original model with the polynomial model\n",
    "# print(f\"Original RMSE: {rmse}\") # Assuming 'rmse' from previous run is still available\n",
    "\n",
    "# 4. Save the new model (if it performs better and you want to use it)\n",
    "joblib.dump(model_poly, \"../dbs_poly.jl\")\n",
    "\n",
    "# 5. Make predictions with the new model (remember it now needs two inputs!)\n",
    "# To predict for SGD = 1.35, you also need its squared value: 1.35 * 1.35 = 1.8225\n",
    "new_data_for_poly_prediction = pd.DataFrame([[1.35, 1.35**2]], columns=[\"SGD\", \"SGD2\"])\n",
    "p_poly = model_poly.predict(new_data_for_poly_prediction)\n",
    "print(f\"Prediction with polynomial feature for SGD=1.35: {p_poly}\")\n",
    "\n",
    "# You can also inspect the new coefficients and intercept\n",
    "print(f\"Polynomial Model Coefficients: {model_poly.coef_}\")\n",
    "print(f\"Polynomial Model Intercept: {model_poly.intercept_}\")"
   ]
  },
  {
   "cell_type": "code",
   "execution_count": null,
   "id": "bbddd9c1",
   "metadata": {},
   "outputs": [],
   "source": [
    "my_flask_app/  (This is your main project folder, you can name it anything)\n",
    "├── app.py           (Your main Flask application script)\n",
    "├── requirements.txt (Lists Python dependencies like Flask, gunicorn, pandas, scikit-learn, joblib)\n",
    "├── templates/       (This folder MUST be named 'templates')\n",
    "│   ├── index.html\n",
    "│   └── prediction.html\n",
    "└── static/          (This folder MUST be named 'static')\n",
    "    └── styles.css"
   ]
  }
 ],
 "metadata": {
  "kernelspec": {
   "display_name": "ml",
   "language": "python",
   "name": "python3"
  },
  "language_info": {
   "codemirror_mode": {
    "name": "ipython",
    "version": 3
   },
   "file_extension": ".py",
   "mimetype": "text/x-python",
   "name": "python",
   "nbconvert_exporter": "python",
   "pygments_lexer": "ipython3",
   "version": "3.11.5"
  }
 },
 "nbformat": 4,
 "nbformat_minor": 5
}
